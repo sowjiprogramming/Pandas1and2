{
 "cells": [
  {
   "cell_type": "code",
   "execution_count": 2,
   "metadata": {},
   "outputs": [],
   "source": [
    "import pandas as pd"
   ]
  },
  {
   "cell_type": "code",
   "execution_count": 18,
   "metadata": {},
   "outputs": [
    {
     "name": "stdout",
     "output_type": "stream",
     "text": [
      "   Destinations  Feedback_Rating Hotel_Rating  Number_Hotels Most_Visted_City\n",
      "0     Australia                8          4/5             20           Sydney\n",
      "1        Canada                9          4/5             36          Toronto\n",
      "2         China                7          3/5             72          Beijing\n",
      "3        France               10          4/5             15            Paris\n",
      "4        Greece               10          5/5             10           Athens\n",
      "5         India                9          3/5             60              Goa\n",
      "6     Indonesia                1          2/5              5             Bali\n",
      "7         Italy                7          4/5              9             Rome\n",
      "8         Japan                7          3/5             13            Tokyo\n",
      "9        Mexico                8          3/5             25      Guadalajara\n",
      "10        Spain                8          5/5             10           Madrid\n",
      "11  Switzerland                9          5/5              9             Bern\n",
      "12       Turkey                7          4/5             17         Istanbul\n",
      "13           UK                9          4/5             32           London\n",
      "14          USA               10          3/5             85         New York\n"
     ]
    }
   ],
   "source": [
    "df = pd.read_csv(\"Travel_Destinations.csv\")\n",
    "\n",
    "print(df)"
   ]
  },
  {
   "cell_type": "code",
   "execution_count": 4,
   "metadata": {},
   "outputs": [
    {
     "name": "stdout",
     "output_type": "stream",
     "text": [
      "(15, 5)\n"
     ]
    }
   ],
   "source": [
    "print(df.shape)"
   ]
  },
  {
   "cell_type": "code",
   "execution_count": 5,
   "metadata": {},
   "outputs": [
    {
     "name": "stdout",
     "output_type": "stream",
     "text": [
      "  Destinations  Feedback_Rating Hotel_Rating  Number_Hotels Most_Visted_City\n",
      "2        China                7          3/5             72          Beijing\n",
      "3       France               10          4/5             15            Paris\n",
      "4       Greece               10          5/5             10           Athens\n",
      "5        India                9          3/5             60              Goa\n",
      "6    Indonesia                6          2/5              5             Bali\n",
      "7        Italy                7          4/5              9             Rome\n"
     ]
    }
   ],
   "source": [
    "print(df.iloc[2:8])"
   ]
  },
  {
   "cell_type": "code",
   "execution_count": 23,
   "metadata": {},
   "outputs": [
    {
     "name": "stdout",
     "output_type": "stream",
     "text": [
      "28\n"
     ]
    }
   ],
   "source": [
    "m = df.Number_Hotels.mean()\n",
    "print(round(m))"
   ]
  },
  {
   "cell_type": "code",
   "execution_count": 22,
   "metadata": {},
   "outputs": [
    {
     "name": "stdout",
     "output_type": "stream",
     "text": [
      "1\n",
      "10\n"
     ]
    }
   ],
   "source": [
    "print(df.Feedback_Rating.min())\n",
    "print(df.Feedback_Rating.max())\n"
   ]
  },
  {
   "cell_type": "code",
   "execution_count": 21,
   "metadata": {},
   "outputs": [
    {
     "name": "stdout",
     "output_type": "stream",
     "text": [
      "   Destinations  Feedback_Rating Hotel_Rating  Number_Hotels Most_Visted_City\n",
      "0     Australia                8          4/5             20           Sydney\n",
      "1        Canada                9          4/5             36          Toronto\n",
      "2         China                7          3/5             72          Beijing\n",
      "3        France               10          4/5             15            Paris\n",
      "4        Greece               10          5/5             10           Athens\n",
      "5         India                9          3/5             60              Goa\n",
      "8         Japan                7          3/5             13            Tokyo\n",
      "9        Mexico                8          3/5             25      Guadalajara\n",
      "10        Spain                8          5/5             10           Madrid\n",
      "12       Turkey                7          4/5             17         Istanbul\n",
      "13           UK                9          4/5             32           London\n",
      "14          USA               10          3/5             85         New York\n"
     ]
    }
   ],
   "source": [
    "da9 = df.Number_Hotels > 9\n",
    "\n",
    "ada9 = df[da9]\n",
    "\n",
    "print(ada9)"
   ]
  },
  {
   "cell_type": "code",
   "execution_count": 20,
   "metadata": {},
   "outputs": [
    {
     "name": "stdout",
     "output_type": "stream",
     "text": [
      "   Destinations  Feedback_Rating Hotel_Rating  Number_Hotels Most_Visted_City\n",
      "1        Canada                9          4/5             36          Toronto\n",
      "3        France               10          4/5             15            Paris\n",
      "4        Greece               10          5/5             10           Athens\n",
      "5         India                9          3/5             60              Goa\n",
      "11  Switzerland                9          5/5              9             Bern\n",
      "13           UK                9          4/5             32           London\n",
      "14          USA               10          3/5             85         New York\n"
     ]
    }
   ],
   "source": [
    "print(df[df.Feedback_Rating > 8])"
   ]
  },
  {
   "cell_type": "code",
   "execution_count": 19,
   "metadata": {},
   "outputs": [
    {
     "name": "stdout",
     "output_type": "stream",
     "text": [
      "  Destinations  Feedback_Rating Hotel_Rating  Number_Hotels Most_Visted_City\n",
      "6    Indonesia                1          2/5              5             Bali\n"
     ]
    }
   ],
   "source": [
    "print(df[df.Feedback_Rating < 2])"
   ]
  },
  {
   "cell_type": "code",
   "execution_count": 25,
   "metadata": {},
   "outputs": [
    {
     "name": "stdout",
     "output_type": "stream",
     "text": [
      "AxesSubplot(0.125,0.125;0.775x0.755)\n"
     ]
    },
    {
     "data": {
      "image/png": "[encoded data removed]",
      "text/plain": [
       "<Figure size 432x288 with 1 Axes>"
      ]
     },
     "metadata": {
      "needs_background": "light"
     },
     "output_type": "display_data"
    }
   ],
   "source": [
    "print(df.plot.scatter(x=\"Number_Hotels\", y=\"Feedback_Rating\"))"
   ]
  },
  {
   "cell_type": "code",
   "execution_count": 30,
   "metadata": {},
   "outputs": [
    {
     "name": "stdout",
     "output_type": "stream",
     "text": [
      "AxesSubplot(0.125,0.125;0.775x0.755)\n"
     ]
    },
    {
     "data": {
      "image/png": "[encoded data removed]",
      "text/plain": [
       "<Figure size 432x288 with 1 Axes>"
      ]
     },
     "metadata": {
      "needs_background": "light"
     },
     "output_type": "display_data"
    }
   ],
   "source": [
    "print(df.plot.bar(x=\"Destinations\",y=\"Feedback_Rating\"))"
   ]
  }
 ],
 "metadata": {
  "interpreter": {
   "hash": "cc5f70855ac006f3de45a3cc3b9e7d8d53845e50458809cb162b0174266dec97"
  },
  "kernelspec": {
   "display_name": "Python 3.8.5 64-bit ('base': conda)",
   "language": "python",
   "name": "python3"
  },
  "language_info": {
   "codemirror_mode": {
    "name": "ipython",
    "version": 3
   },
   "file_extension": ".py",
   "mimetype": "text/x-python",
   "name": "python",
   "nbconvert_exporter": "python",
   "pygments_lexer": "ipython3",
   "version": "3.8.5"
  },
  "orig_nbformat": 4
 },
 "nbformat": 4,
 "nbformat_minor": 2
}
